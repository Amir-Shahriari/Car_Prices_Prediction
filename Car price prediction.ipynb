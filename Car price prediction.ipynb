{
 "cells": [
  {
   "cell_type": "markdown",
   "id": "8a0c67ea",
   "metadata": {},
   "source": [
    "# Car Price Prediction\n"
   ]
  },
  {
   "cell_type": "markdown",
   "id": "ea603c44",
   "metadata": {},
   "source": [
    "data regarding some attributes of cars has been gathered in this dataset, there will be assessments implemented on this data and the attributes with the highest correlation will be used to train the model and predict the car prices based on them."
   ]
  },
  {
   "cell_type": "markdown",
   "id": "cc0411bd",
   "metadata": {},
   "source": [
    "every record has 5 attributes and 1 label(price) as below:\n",
    "\n",
    "input variables\n",
    "\n",
    "1-name\n",
    "\n",
    "2-year\n",
    "\n",
    "3-miles\n",
    "\n",
    "4-color\n",
    "\n",
    "5-condition\n",
    "\n",
    "output variable\n",
    "\n",
    "1-price"
   ]
  }
 ],
 "metadata": {
  "kernelspec": {
   "display_name": "Python 3 (ipykernel)",
   "language": "python",
   "name": "python3"
  },
  "language_info": {
   "codemirror_mode": {
    "name": "ipython",
    "version": 3
   },
   "file_extension": ".py",
   "mimetype": "text/x-python",
   "name": "python",
   "nbconvert_exporter": "python",
   "pygments_lexer": "ipython3",
   "version": "3.11.5"
  }
 },
 "nbformat": 4,
 "nbformat_minor": 5
}
